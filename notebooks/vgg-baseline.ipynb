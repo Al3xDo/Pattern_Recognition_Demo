{
  "cells": [
    {
      "cell_type": "markdown",
      "id": "86e8a902",
      "metadata": {
        "papermill": {
          "duration": 0.00951,
          "end_time": "2022-04-06T10:45:20.339613",
          "exception": false,
          "start_time": "2022-04-06T10:45:20.330103",
          "status": "completed"
        },
        "tags": [],
        "id": "86e8a902"
      },
      "source": [
        "# Import  library"
      ]
    },
    {
      "cell_type": "code",
      "execution_count": 1,
      "id": "773c6e3b",
      "metadata": {
        "execution": {
          "iopub.execute_input": "2022-04-06T10:45:44.518538Z",
          "iopub.status.busy": "2022-04-06T10:45:44.517873Z",
          "iopub.status.idle": "2022-04-06T10:45:50.946725Z",
          "shell.execute_reply": "2022-04-06T10:45:50.945521Z"
        },
        "papermill": {
          "duration": 6.560714,
          "end_time": "2022-04-06T10:45:50.946894",
          "exception": false,
          "start_time": "2022-04-06T10:45:44.386180",
          "status": "completed"
        },
        "tags": [],
        "id": "773c6e3b"
      },
      "outputs": [],
      "source": [
        "import matplotlib.pyplot as plt\n",
        "import tensorflow as tf\n",
        "import zipfile\n",
        "import pandas as pd\n",
        "import numpy as np\n",
        "from tensorflow import keras\n",
        "from tensorflow.keras import layers\n",
        "import pylab"
      ]
    },
    {
      "cell_type": "code",
      "source": [
        "from google.colab import drive\n",
        "drive.mount('/content/drive')"
      ],
      "metadata": {
        "colab": {
          "base_uri": "https://localhost:8080/"
        },
        "id": "02tIHAC3C090",
        "outputId": "ccf2c0d1-d928-4c4b-d85f-7714e901ea05"
      },
      "id": "02tIHAC3C090",
      "execution_count": 2,
      "outputs": [
        {
          "output_type": "stream",
          "name": "stdout",
          "text": [
            "Mounted at /content/drive\n"
          ]
        }
      ]
    },
    {
      "cell_type": "code",
      "source": [
        "%cd /content/drive/MyDrive/plant"
      ],
      "metadata": {
        "colab": {
          "base_uri": "https://localhost:8080/"
        },
        "id": "O1-HcG1FDDwG",
        "outputId": "43b6daa6-c780-457e-a549-c9a8591fd4f8"
      },
      "id": "O1-HcG1FDDwG",
      "execution_count": 3,
      "outputs": [
        {
          "output_type": "stream",
          "name": "stdout",
          "text": [
            "/content/drive/MyDrive/plant\n"
          ]
        }
      ]
    },
    {
      "cell_type": "markdown",
      "id": "61d1826f",
      "metadata": {
        "papermill": {
          "duration": 0.126931,
          "end_time": "2022-04-06T10:45:51.214186",
          "exception": false,
          "start_time": "2022-04-06T10:45:51.087255",
          "status": "completed"
        },
        "tags": [],
        "id": "61d1826f"
      },
      "source": [
        "# Load and process data"
      ]
    },
    {
      "cell_type": "code",
      "execution_count": 4,
      "id": "001b77e4",
      "metadata": {
        "execution": {
          "iopub.execute_input": "2022-04-06T10:45:51.471912Z",
          "iopub.status.busy": "2022-04-06T10:45:51.470949Z",
          "iopub.status.idle": "2022-04-06T10:46:05.338135Z",
          "shell.execute_reply": "2022-04-06T10:46:05.337257Z"
        },
        "papermill": {
          "duration": 13.99843,
          "end_time": "2022-04-06T10:46:05.338648",
          "exception": false,
          "start_time": "2022-04-06T10:45:51.340218",
          "status": "completed"
        },
        "tags": [],
        "colab": {
          "base_uri": "https://localhost:8080/"
        },
        "id": "001b77e4",
        "outputId": "edd90c43-3979-4286-e08b-71558ce828f5"
      },
      "outputs": [
        {
          "output_type": "stream",
          "name": "stdout",
          "text": [
            "Found 35788 files belonging to 26 classes.\n",
            "Using 28631 files for training.\n",
            "Found 35788 files belonging to 26 classes.\n",
            "Using 7157 files for validation.\n"
          ]
        }
      ],
      "source": [
        "split=0.2\n",
        "seed=19521242\n",
        "batch_size=256\n",
        "img_size=(224,224)\n",
        "\n",
        "train_ds = keras.utils.image_dataset_from_directory(\n",
        "    './bali-26_train/bali-26_train',\n",
        "    labels=\"inferred\",\n",
        "    label_mode=\"int\",\n",
        "    color_mode=\"rgb\",\n",
        "    batch_size=batch_size,\n",
        "    image_size=img_size,\n",
        "    shuffle=True,\n",
        "    seed=seed,\n",
        "    validation_split=split,\n",
        "    subset='training',\n",
        ")\n",
        "val_ds = keras.utils.image_dataset_from_directory(\n",
        "    './bali-26_train/bali-26_train',\n",
        "    labels=\"inferred\",\n",
        "    label_mode=\"int\",\n",
        "    color_mode=\"rgb\",\n",
        "    batch_size=batch_size,\n",
        "    image_size=img_size,\n",
        "    shuffle=True,\n",
        "    seed=seed,\n",
        "    validation_split=split,\n",
        "    subset='validation',\n",
        ")"
      ]
    },
    {
      "cell_type": "code",
      "execution_count": 5,
      "id": "0835e329",
      "metadata": {
        "execution": {
          "iopub.execute_input": "2022-04-06T10:46:05.649863Z",
          "iopub.status.busy": "2022-04-06T10:46:05.649229Z",
          "iopub.status.idle": "2022-04-06T10:46:05.674924Z",
          "shell.execute_reply": "2022-04-06T10:46:05.674301Z"
        },
        "papermill": {
          "duration": 0.176662,
          "end_time": "2022-04-06T10:46:05.675082",
          "exception": false,
          "start_time": "2022-04-06T10:46:05.498420",
          "status": "completed"
        },
        "tags": [],
        "id": "0835e329"
      },
      "outputs": [],
      "source": [
        "data_augmentation = keras.Sequential([])"
      ]
    },
    {
      "cell_type": "markdown",
      "id": "e7415c0a",
      "metadata": {
        "papermill": {
          "duration": 0.137659,
          "end_time": "2022-04-06T10:46:05.946607",
          "exception": false,
          "start_time": "2022-04-06T10:46:05.808948",
          "status": "completed"
        },
        "tags": [],
        "id": "e7415c0a"
      },
      "source": [
        "# Create and train model"
      ]
    },
    {
      "cell_type": "code",
      "execution_count": 6,
      "id": "f13a1e46",
      "metadata": {
        "execution": {
          "iopub.execute_input": "2022-04-06T10:46:06.226497Z",
          "iopub.status.busy": "2022-04-06T10:46:06.225501Z",
          "iopub.status.idle": "2022-04-06T10:46:06.230385Z",
          "shell.execute_reply": "2022-04-06T10:46:06.230952Z"
        },
        "papermill": {
          "duration": 0.148212,
          "end_time": "2022-04-06T10:46:06.231139",
          "exception": false,
          "start_time": "2022-04-06T10:46:06.082927",
          "status": "completed"
        },
        "tags": [],
        "id": "f13a1e46"
      },
      "outputs": [],
      "source": [
        "CB = [\n",
        "            keras.callbacks.ModelCheckpoint(\n",
        "            filepath=\"fine_tuning.keras\",\n",
        "            save_best_only=True,\n",
        "            monitor=\"val_loss\"),\n",
        "\n",
        "            keras.callbacks.EarlyStopping(\n",
        "            monitor='val_loss',\n",
        "            min_delta=0.0005,\n",
        "            patience=3)\n",
        "]"
      ]
    },
    {
      "cell_type": "code",
      "execution_count": 7,
      "id": "173df562",
      "metadata": {
        "execution": {
          "iopub.execute_input": "2022-04-06T10:46:06.506889Z",
          "iopub.status.busy": "2022-04-06T10:46:06.505901Z",
          "iopub.status.idle": "2022-04-06T10:46:07.362210Z",
          "shell.execute_reply": "2022-04-06T10:46:07.361216Z"
        },
        "papermill": {
          "duration": 1.001788,
          "end_time": "2022-04-06T10:46:07.362418",
          "exception": false,
          "start_time": "2022-04-06T10:46:06.360630",
          "status": "completed"
        },
        "tags": [],
        "colab": {
          "base_uri": "https://localhost:8080/"
        },
        "id": "173df562",
        "outputId": "a6d221d4-279e-462f-aae0-236de7c6e4eb"
      },
      "outputs": [
        {
          "output_type": "stream",
          "name": "stdout",
          "text": [
            "Downloading data from https://storage.googleapis.com/tensorflow/keras-applications/vgg16/vgg16_weights_tf_dim_ordering_tf_kernels_notop.h5\n",
            "58892288/58889256 [==============================] - 0s 0us/step\n",
            "58900480/58889256 [==============================] - 0s 0us/step\n",
            "This is the number of trainable weights before freezing the conv base: 0\n",
            "Model: \"vgg16\"\n",
            "_________________________________________________________________\n",
            " Layer (type)                Output Shape              Param #   \n",
            "=================================================================\n",
            " input_1 (InputLayer)        [(None, None, None, 3)]   0         \n",
            "                                                                 \n",
            " block1_conv1 (Conv2D)       (None, None, None, 64)    1792      \n",
            "                                                                 \n",
            " block1_conv2 (Conv2D)       (None, None, None, 64)    36928     \n",
            "                                                                 \n",
            " block1_pool (MaxPooling2D)  (None, None, None, 64)    0         \n",
            "                                                                 \n",
            " block2_conv1 (Conv2D)       (None, None, None, 128)   73856     \n",
            "                                                                 \n",
            " block2_conv2 (Conv2D)       (None, None, None, 128)   147584    \n",
            "                                                                 \n",
            " block2_pool (MaxPooling2D)  (None, None, None, 128)   0         \n",
            "                                                                 \n",
            " block3_conv1 (Conv2D)       (None, None, None, 256)   295168    \n",
            "                                                                 \n",
            " block3_conv2 (Conv2D)       (None, None, None, 256)   590080    \n",
            "                                                                 \n",
            " block3_conv3 (Conv2D)       (None, None, None, 256)   590080    \n",
            "                                                                 \n",
            " block3_pool (MaxPooling2D)  (None, None, None, 256)   0         \n",
            "                                                                 \n",
            " block4_conv1 (Conv2D)       (None, None, None, 512)   1180160   \n",
            "                                                                 \n",
            " block4_conv2 (Conv2D)       (None, None, None, 512)   2359808   \n",
            "                                                                 \n",
            " block4_conv3 (Conv2D)       (None, None, None, 512)   2359808   \n",
            "                                                                 \n",
            " block4_pool (MaxPooling2D)  (None, None, None, 512)   0         \n",
            "                                                                 \n",
            " block5_conv1 (Conv2D)       (None, None, None, 512)   2359808   \n",
            "                                                                 \n",
            " block5_conv2 (Conv2D)       (None, None, None, 512)   2359808   \n",
            "                                                                 \n",
            " block5_conv3 (Conv2D)       (None, None, None, 512)   2359808   \n",
            "                                                                 \n",
            " block5_pool (MaxPooling2D)  (None, None, None, 512)   0         \n",
            "                                                                 \n",
            "=================================================================\n",
            "Total params: 14,714,688\n",
            "Trainable params: 0\n",
            "Non-trainable params: 14,714,688\n",
            "_________________________________________________________________\n"
          ]
        }
      ],
      "source": [
        "vgg16_base  = keras.applications.vgg16.VGG16(\n",
        "    weights=\"imagenet\",\n",
        "    #weights=None,\n",
        "    include_top=False)\n",
        "\n",
        "#vgg16_base.trainable = True\n",
        "vgg16_base.trainable = False\n",
        "\n",
        "print(\"This is the number of trainable weights \"\n",
        "      \"before freezing the conv base:\", len(vgg16_base.trainable_weights))\n",
        "\n",
        "vgg16_base.summary()\n"
      ]
    },
    {
      "cell_type": "code",
      "execution_count": 8,
      "id": "dbb596a5",
      "metadata": {
        "execution": {
          "iopub.execute_input": "2022-04-06T10:46:07.666954Z",
          "iopub.status.busy": "2022-04-06T10:46:07.662270Z",
          "iopub.status.idle": "2022-04-06T10:46:07.930628Z",
          "shell.execute_reply": "2022-04-06T10:46:07.930062Z"
        },
        "papermill": {
          "duration": 0.430517,
          "end_time": "2022-04-06T10:46:07.930781",
          "exception": false,
          "start_time": "2022-04-06T10:46:07.500264",
          "status": "completed"
        },
        "tags": [],
        "colab": {
          "base_uri": "https://localhost:8080/"
        },
        "id": "dbb596a5",
        "outputId": "0655cf11-58cd-40c4-9cd0-217f25a8fb37"
      },
      "outputs": [
        {
          "output_type": "stream",
          "name": "stdout",
          "text": [
            "Model: \"model\"\n",
            "_________________________________________________________________\n",
            " Layer (type)                Output Shape              Param #   \n",
            "=================================================================\n",
            " input_2 (InputLayer)        [(None, 224, 224, 3)]     0         \n",
            "                                                                 \n",
            " sequential (Sequential)     multiple                  0         \n",
            "                                                                 \n",
            " tf.__operators__.getitem (S  (None, 224, 224, 3)      0         \n",
            " licingOpLambda)                                                 \n",
            "                                                                 \n",
            " tf.nn.bias_add (TFOpLambda)  (None, 224, 224, 3)      0         \n",
            "                                                                 \n",
            " vgg16 (Functional)          (None, None, None, 512)   14714688  \n",
            "                                                                 \n",
            " flatten (Flatten)           (None, 25088)             0         \n",
            "                                                                 \n",
            " batch_normalization (BatchN  (None, 25088)            100352    \n",
            " ormalization)                                                   \n",
            "                                                                 \n",
            " dense (Dense)               (None, 512)               12845568  \n",
            "                                                                 \n",
            " batch_normalization_1 (Batc  (None, 512)              2048      \n",
            " hNormalization)                                                 \n",
            "                                                                 \n",
            " dropout (Dropout)           (None, 512)               0         \n",
            "                                                                 \n",
            " dense_1 (Dense)             (None, 256)               131328    \n",
            "                                                                 \n",
            " batch_normalization_2 (Batc  (None, 256)              1024      \n",
            " hNormalization)                                                 \n",
            "                                                                 \n",
            " dropout_1 (Dropout)         (None, 256)               0         \n",
            "                                                                 \n",
            " dense_2 (Dense)             (None, 128)               32896     \n",
            "                                                                 \n",
            " dense_3 (Dense)             (None, 26)                3354      \n",
            "                                                                 \n",
            "=================================================================\n",
            "Total params: 27,831,258\n",
            "Trainable params: 13,064,858\n",
            "Non-trainable params: 14,766,400\n",
            "_________________________________________________________________\n"
          ]
        }
      ],
      "source": [
        "inputs = keras.Input(shape=img_size+(3,))\n",
        "x = data_augmentation(inputs)\n",
        "x = keras.applications.vgg16.preprocess_input(x)\n",
        "x = vgg16_base(x)\n",
        "x = layers.Flatten()(x)\n",
        "x = layers.BatchNormalization()(x)\n",
        "x = layers.Dense(512,activation='softplus')(x)\n",
        "x = layers.BatchNormalization()(x)\n",
        "x = layers.Dropout(0.3)(x)\n",
        "x = layers.Dense(256,activation='softplus')(x)\n",
        "x = layers.BatchNormalization()(x)\n",
        "x = layers.Dropout(0.3)(x)\n",
        "x = layers.Dense(128,activation='softplus')(x)\n",
        "\n",
        "outputs = layers.Dense(26, activation=\"softmax\")(x)\n",
        "vgg16_model = keras.Model(inputs, outputs)\n",
        "vgg16_model.compile(optimizer=\"adam\",\n",
        "              loss=\"sparse_categorical_crossentropy\",\n",
        "              metrics=[\"accuracy\"])\n",
        "vgg16_model.summary()"
      ]
    },
    {
      "cell_type": "code",
      "execution_count": null,
      "id": "2afac184",
      "metadata": {
        "execution": {
          "iopub.execute_input": "2022-04-06T10:46:08.205476Z",
          "iopub.status.busy": "2022-04-06T10:46:08.204780Z"
        },
        "papermill": {
          "duration": null,
          "end_time": null,
          "exception": false,
          "start_time": "2022-04-06T10:46:08.067561",
          "status": "running"
        },
        "tags": [],
        "colab": {
          "base_uri": "https://localhost:8080/"
        },
        "id": "2afac184",
        "outputId": "1eb2fc80-ed9c-4609-d1fb-f606f6cd40c8"
      },
      "outputs": [
        {
          "output_type": "stream",
          "name": "stdout",
          "text": [
            "Epoch 1/10\n",
            " 15/112 [===>..........................] - ETA: 58:47 - loss: 1.4198 - accuracy: 0.6664"
          ]
        }
      ],
      "source": [
        "history_vgg16 = vgg16_model.fit(\n",
        "    train_ds,\n",
        "    epochs=10,\n",
        "    validation_data=val_ds,\n",
        "    callbacks=CB\n",
        "    )\n",
        "vgg16_model = keras.models.load_model(\"fine_tuning.keras\")"
      ]
    },
    {
      "cell_type": "code",
      "source": [
        ""
      ],
      "metadata": {
        "id": "AjBT9M-SDQ_N"
      },
      "id": "AjBT9M-SDQ_N",
      "execution_count": null,
      "outputs": []
    }
  ],
  "metadata": {
    "kernelspec": {
      "display_name": "Python 3",
      "language": "python",
      "name": "python3"
    },
    "language_info": {
      "codemirror_mode": {
        "name": "ipython",
        "version": 3
      },
      "file_extension": ".py",
      "mimetype": "text/x-python",
      "name": "python",
      "nbconvert_exporter": "python",
      "pygments_lexer": "ipython3",
      "version": "3.6.4"
    },
    "papermill": {
      "default_parameters": {},
      "duration": null,
      "end_time": null,
      "environment_variables": {},
      "exception": null,
      "input_path": "__notebook__.ipynb",
      "output_path": "__notebook__.ipynb",
      "parameters": {},
      "start_time": "2022-04-06T10:45:11.163758",
      "version": "2.3.3"
    },
    "colab": {
      "name": "vgg-baseline.ipynb",
      "provenance": []
    },
    "accelerator": "GPU",
    "gpuClass": "standard"
  },
  "nbformat": 4,
  "nbformat_minor": 5
}